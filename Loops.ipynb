{
 "cells": [
  {
   "cell_type": "markdown",
   "id": "2698cc56",
   "metadata": {},
   "source": [
    "# loops"
   ]
  },
  {
   "cell_type": "markdown",
   "id": "2d17bd5e",
   "metadata": {},
   "source": []
  }
 ],
 "metadata": {
  "kernelspec": {
   "display_name": "Python 3",
   "language": "python",
   "name": "python3"
  },
  "language_info": {
   "name": "python",
   "version": "3.11.9"
  }
 },
 "nbformat": 4,
 "nbformat_minor": 5
}
