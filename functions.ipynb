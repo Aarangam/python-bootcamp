{
 "cells": [
  {
   "cell_type": "markdown",
   "id": "e81efd4e",
   "metadata": {},
   "source": [
    "# python custom functions"
   ]
  },
  {
   "cell_type": "markdown",
   "id": "d1662ae3",
   "metadata": {},
   "source": [
    "## Easy (Basic and Fundamentals)"
   ]
  },
  {
   "cell_type": "markdown",
   "id": "4779bc08",
   "metadata": {},
   "source": [
    "### Introduction"
   ]
  },
  {
   "cell_type": "code",
   "execution_count": 6,
   "id": "017ff0bb",
   "metadata": {},
   "outputs": [
    {
     "name": "stdout",
     "output_type": "stream",
     "text": [
      "My name is Prasanna\n"
     ]
    }
   ],
   "source": [
    "def name():\n",
    "    print(\"My name is Prasanna\")\n",
    "name()"
   ]
  },
  {
   "cell_type": "code",
   "execution_count": 8,
   "id": "b4ff1df8",
   "metadata": {},
   "outputs": [
    {
     "name": "stdout",
     "output_type": "stream",
     "text": [
      "Hello, welcome to the Python Bootcamp!\n"
     ]
    }
   ],
   "source": [
    "def greet():\n",
    "    print(\"Hello, welcome to the Python Bootcamp!\")\n",
    "greet()"
   ]
  },
  {
   "cell_type": "code",
   "execution_count": 11,
   "id": "435770d2",
   "metadata": {},
   "outputs": [
    {
     "name": "stdout",
     "output_type": "stream",
     "text": [
      "Hello, welcome to the Python Bootcamp!\n",
      "This is my sample function file. None\n"
     ]
    }
   ],
   "source": [
    "print(\"This is my sample function file.\", greet())"
   ]
  },
  {
   "cell_type": "markdown",
   "id": "17812e09",
   "metadata": {},
   "source": [
    "### Addition"
   ]
  },
  {
   "cell_type": "code",
   "execution_count": 14,
   "id": "68d414b9",
   "metadata": {},
   "outputs": [
    {
     "data": {
      "text/plain": [
       "8"
      ]
     },
     "execution_count": 14,
     "metadata": {},
     "output_type": "execute_result"
    }
   ],
   "source": [
    "def add(a, b):\n",
    "    return a + b\n",
    "add(5, 3)"
   ]
  },
  {
   "cell_type": "markdown",
   "id": "d2ada70e",
   "metadata": {},
   "source": [
    "### Find Maximum"
   ]
  },
  {
   "cell_type": "code",
   "execution_count": 16,
   "id": "2e182896",
   "metadata": {},
   "outputs": [
    {
     "data": {
      "text/plain": [
       "100"
      ]
     },
     "execution_count": 16,
     "metadata": {},
     "output_type": "execute_result"
    }
   ],
   "source": [
    "def find_max(x, y):\n",
    "    return x if x > y else y\n",
    "find_max(100, 20)"
   ]
  },
  {
   "cell_type": "markdown",
   "id": "0d1e73c7",
   "metadata": {},
   "source": [
    "### Find Square Root"
   ]
  },
  {
   "cell_type": "code",
   "execution_count": 19,
   "id": "7725db70",
   "metadata": {},
   "outputs": [
    {
     "name": "stdout",
     "output_type": "stream",
     "text": [
      "625\n"
     ]
    }
   ],
   "source": [
    "def sqr(x):\n",
    "    return x ** 2\n",
    "print(sqr(25))   "
   ]
  },
  {
   "cell_type": "markdown",
   "id": "739e4510",
   "metadata": {},
   "source": [
    "### Find odd or Even"
   ]
  },
  {
   "cell_type": "code",
   "execution_count": 23,
   "id": "d54fe1ae",
   "metadata": {},
   "outputs": [
    {
     "name": "stdout",
     "output_type": "stream",
     "text": [
      "the number is Odd\n"
     ]
    }
   ],
   "source": [
    "def odd_even(num):\n",
    "    return \"Even\" if num % 2 == 0 else \"Odd\"\n",
    "print(\"the number is\", odd_even(17))"
   ]
  },
  {
   "cell_type": "code",
   "execution_count": 28,
   "id": "ddcd9a5c",
   "metadata": {},
   "outputs": [
    {
     "name": "stdout",
     "output_type": "stream",
     "text": [
      "The number is Even\n"
     ]
    }
   ],
   "source": [
    "def eo(x):\n",
    "    return \"Even\" if x % 2 == 0 else \"Odd\"\n",
    "print(\"The number is\", eo(90))"
   ]
  },
  {
   "cell_type": "markdown",
   "id": "8a815662",
   "metadata": {},
   "source": [
    "### Length of a String"
   ]
  },
  {
   "cell_type": "code",
   "execution_count": 31,
   "id": "4aa30a5c",
   "metadata": {},
   "outputs": [
    {
     "name": "stdout",
     "output_type": "stream",
     "text": [
      "12\n"
     ]
    }
   ],
   "source": [
    "def length_of_string(x):\n",
    "    return len(x)\n",
    "print(length_of_string(\"Hello World!\"))"
   ]
  },
  {
   "cell_type": "markdown",
   "id": "eba03fd8",
   "metadata": {},
   "source": [
    "### Revese the string"
   ]
  },
  {
   "cell_type": "code",
   "execution_count": 4,
   "id": "178485dd",
   "metadata": {},
   "outputs": [
    {
     "name": "stdout",
     "output_type": "stream",
     "text": [
      "annasarP\n"
     ]
    }
   ],
   "source": [
    "def reverse_string(x):\n",
    "    return x[::-1]\n",
    "print(reverse_string(\"Prasanna\"))"
   ]
  },
  {
   "cell_type": "markdown",
   "id": "ffc17197",
   "metadata": {},
   "source": [
    "### Change celsius to fahrenheit"
   ]
  },
  {
   "cell_type": "code",
   "execution_count": 12,
   "id": "6cfeffae",
   "metadata": {},
   "outputs": [
    {
     "name": "stdout",
     "output_type": "stream",
     "text": [
      "Celsius to Fahrenheit: 100.4\n"
     ]
    }
   ],
   "source": [
    "def c_to_f(celsius):\n",
    "    return (celsius * 9/5) + 32\n",
    "print(\"Celsius to Fahrenheit:\", c_to_f(38))"
   ]
  },
  {
   "cell_type": "markdown",
   "id": "4c21d3ed",
   "metadata": {},
   "source": [
    "### Give Absolute Number"
   ]
  },
  {
   "cell_type": "code",
   "execution_count": 16,
   "id": "18d83939",
   "metadata": {},
   "outputs": [
    {
     "name": "stdout",
     "output_type": "stream",
     "text": [
      "Absolute value of -211.20 is: 211.2\n"
     ]
    }
   ],
   "source": [
    "def absolute_value(x):\n",
    "    return abs(x)\n",
    "print(\"Absolute value of -211.20 is:\", absolute_value(-211.20))"
   ]
  },
  {
   "cell_type": "markdown",
   "id": "5c08ac3d",
   "metadata": {},
   "source": [
    "### Prime Numbers"
   ]
  },
  {
   "cell_type": "code",
   "execution_count": 21,
   "id": "4c6cdc6d",
   "metadata": {},
   "outputs": [
    {
     "name": "stdout",
     "output_type": "stream",
     "text": [
      "Is 29 a prime number? False\n"
     ]
    }
   ],
   "source": [
    "def find_number_is_prime(num):\n",
    "    if num < 2:\n",
    "        return False\n",
    "    for i in range(2, int(num**0.5) + 1):\n",
    "        if num % i == 0:\n",
    "            return False\n",
    "    return True\n",
    "print(\"Is 29 a prime number?\", find_number_is_prime(20))\n"
   ]
  },
  {
   "cell_type": "markdown",
   "id": "12880259",
   "metadata": {},
   "source": [
    "### Factorials"
   ]
  },
  {
   "cell_type": "code",
   "execution_count": 24,
   "id": "3fdb0f89",
   "metadata": {},
   "outputs": [
    {
     "name": "stdout",
     "output_type": "stream",
     "text": [
      "Factorial of 3 is: 6\n"
     ]
    }
   ],
   "source": [
    "def factorial(n):\n",
    "    if n == 0 or n == 1:\n",
    "        return 1\n",
    "    else:\n",
    "        return n * factorial(n - 1)\n",
    "print(\"Factorial of 3 is:\", factorial(3))"
   ]
  },
  {
   "cell_type": "markdown",
   "id": "f8219e30",
   "metadata": {},
   "source": [
    "## Low -  Medium (Logic Building)"
   ]
  },
  {
   "cell_type": "markdown",
   "id": "0e895cf2",
   "metadata": {},
   "source": [
    "### Adding two numbers"
   ]
  },
  {
   "cell_type": "code",
   "execution_count": 25,
   "id": "af8ed373",
   "metadata": {},
   "outputs": [
    {
     "name": "stdout",
     "output_type": "stream",
     "text": [
      "Sum is: 8\n"
     ]
    }
   ],
   "source": [
    "def adding_two_numbers(a, b):\n",
    "    return a + b\n",
    "print(\"Sum is:\", adding_two_numbers(5, 3))"
   ]
  },
  {
   "cell_type": "markdown",
   "id": "29925c2b",
   "metadata": {},
   "source": [
    "### Sort the list numbers"
   ]
  },
  {
   "cell_type": "code",
   "execution_count": 28,
   "id": "f79fb380",
   "metadata": {},
   "outputs": [
    {
     "name": "stdout",
     "output_type": "stream",
     "text": [
      "Sorted list: [1, 2, 5, 5, 6, 9]\n"
     ]
    }
   ],
   "source": [
    "def list_sort(numbers):\n",
    "    return sorted(numbers)\n",
    "print(\"Sorted list:\", list_sort([5, 2, 9, 1, 5, 6]))"
   ]
  }
 ],
 "metadata": {
  "kernelspec": {
   "display_name": "Python 3",
   "language": "python",
   "name": "python3"
  },
  "language_info": {
   "codemirror_mode": {
    "name": "ipython",
    "version": 3
   },
   "file_extension": ".py",
   "mimetype": "text/x-python",
   "name": "python",
   "nbconvert_exporter": "python",
   "pygments_lexer": "ipython3",
   "version": "3.11.9"
  }
 },
 "nbformat": 4,
 "nbformat_minor": 5
}
