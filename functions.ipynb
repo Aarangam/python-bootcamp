{
 "cells": [
  {
   "cell_type": "markdown",
   "id": "e81efd4e",
   "metadata": {},
   "source": [
    "# python custom functions"
   ]
  },
  {
   "cell_type": "code",
   "execution_count": 6,
   "id": "017ff0bb",
   "metadata": {},
   "outputs": [
    {
     "name": "stdout",
     "output_type": "stream",
     "text": [
      "My name is Prasanna\n"
     ]
    }
   ],
   "source": [
    "def name():\n",
    "    print(\"My name is Prasanna\")\n",
    "name()"
   ]
  },
  {
   "cell_type": "code",
   "execution_count": 8,
   "id": "b4ff1df8",
   "metadata": {},
   "outputs": [
    {
     "name": "stdout",
     "output_type": "stream",
     "text": [
      "Hello, welcome to the Python Bootcamp!\n"
     ]
    }
   ],
   "source": [
    "def greet():\n",
    "    print(\"Hello, welcome to the Python Bootcamp!\")\n",
    "greet()"
   ]
  },
  {
   "cell_type": "code",
   "execution_count": 11,
   "id": "435770d2",
   "metadata": {},
   "outputs": [
    {
     "name": "stdout",
     "output_type": "stream",
     "text": [
      "Hello, welcome to the Python Bootcamp!\n",
      "This is my sample function file. None\n"
     ]
    }
   ],
   "source": [
    "print(\"This is my sample function file.\", greet())"
   ]
  },
  {
   "cell_type": "code",
   "execution_count": 14,
   "id": "68d414b9",
   "metadata": {},
   "outputs": [
    {
     "data": {
      "text/plain": [
       "8"
      ]
     },
     "execution_count": 14,
     "metadata": {},
     "output_type": "execute_result"
    }
   ],
   "source": [
    "def add(a, b):\n",
    "    return a + b\n",
    "add(5, 3)"
   ]
  },
  {
   "cell_type": "code",
   "execution_count": 16,
   "id": "2e182896",
   "metadata": {},
   "outputs": [
    {
     "data": {
      "text/plain": [
       "100"
      ]
     },
     "execution_count": 16,
     "metadata": {},
     "output_type": "execute_result"
    }
   ],
   "source": [
    "def find_max(x, y):\n",
    "    return x if x > y else y\n",
    "find_max(100, 20)"
   ]
  },
  {
   "cell_type": "code",
   "execution_count": 19,
   "id": "7725db70",
   "metadata": {},
   "outputs": [
    {
     "name": "stdout",
     "output_type": "stream",
     "text": [
      "625\n"
     ]
    }
   ],
   "source": [
    "def sqr(x):\n",
    "    return x ** 2\n",
    "print(sqr(25))   "
   ]
  },
  {
   "cell_type": "code",
   "execution_count": 23,
   "id": "d54fe1ae",
   "metadata": {},
   "outputs": [
    {
     "name": "stdout",
     "output_type": "stream",
     "text": [
      "the number is Odd\n"
     ]
    }
   ],
   "source": [
    "def odd_even(num):\n",
    "    return \"Even\" if num % 2 == 0 else \"Odd\"\n",
    "print(\"the number is\", odd_even(17))"
   ]
  },
  {
   "cell_type": "code",
   "execution_count": 28,
   "id": "ddcd9a5c",
   "metadata": {},
   "outputs": [
    {
     "name": "stdout",
     "output_type": "stream",
     "text": [
      "The number is Even\n"
     ]
    }
   ],
   "source": [
    "def eo(x):\n",
    "    return \"Even\" if x % 2 == 0 else \"Odd\"\n",
    "print(\"The number is\", eo(90))"
   ]
  },
  {
   "cell_type": "code",
   "execution_count": 31,
   "id": "4aa30a5c",
   "metadata": {},
   "outputs": [
    {
     "name": "stdout",
     "output_type": "stream",
     "text": [
      "12\n"
     ]
    }
   ],
   "source": [
    "def length_of_string(x):\n",
    "    return len(x)\n",
    "print(length_of_string(\"Hello World!\"))"
   ]
  }
 ],
 "metadata": {
  "kernelspec": {
   "display_name": "Python 3",
   "language": "python",
   "name": "python3"
  },
  "language_info": {
   "codemirror_mode": {
    "name": "ipython",
    "version": 3
   },
   "file_extension": ".py",
   "mimetype": "text/x-python",
   "name": "python",
   "nbconvert_exporter": "python",
   "pygments_lexer": "ipython3",
   "version": "3.11.9"
  }
 },
 "nbformat": 4,
 "nbformat_minor": 5
}
