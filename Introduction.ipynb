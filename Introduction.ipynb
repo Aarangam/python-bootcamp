{
 "cells": [
  {
   "cell_type": "markdown",
   "id": "1915cb01",
   "metadata": {},
   "source": [
    "## Introduction to Python"
   ]
  },
  {
   "cell_type": "markdown",
   "id": "437f0b06",
   "metadata": {},
   "source": [
    "### Executing Print"
   ]
  },
  {
   "cell_type": "code",
   "execution_count": 1,
   "id": "260cfe17",
   "metadata": {},
   "outputs": [
    {
     "name": "stdout",
     "output_type": "stream",
     "text": [
      "Hello World!\n"
     ]
    }
   ],
   "source": [
    "print(\"Hello World!\")"
   ]
  },
  {
   "cell_type": "code",
   "execution_count": 2,
   "id": "9fec3a44",
   "metadata": {},
   "outputs": [
    {
     "name": "stdout",
     "output_type": "stream",
     "text": [
      "it's a beautiful day\n"
     ]
    }
   ],
   "source": [
    "print(\"\"\"it's a beautiful day\"\"\")"
   ]
  },
  {
   "cell_type": "code",
   "execution_count": 4,
   "id": "e4c74863",
   "metadata": {},
   "outputs": [
    {
     "name": "stdout",
     "output_type": "stream",
     "text": [
      "It is my first line of code\n",
      "      and I am excited to learn Python!\n"
     ]
    }
   ],
   "source": [
    "print(\"\"\"It is my first line of code\n",
    "      and I am excited to learn Python!\"\"\")"
   ]
  },
  {
   "cell_type": "markdown",
   "id": "e0aba445",
   "metadata": {},
   "source": [
    "### Check you version"
   ]
  },
  {
   "cell_type": "code",
   "execution_count": 5,
   "id": "dd087e3e",
   "metadata": {},
   "outputs": [
    {
     "name": "stdout",
     "output_type": "stream",
     "text": [
      "3.11.9 (tags/v3.11.9:de54cf5, Apr  2 2024, 10:12:12) [MSC v.1938 64 bit (AMD64)]\n"
     ]
    }
   ],
   "source": [
    "import sys\n",
    "print(sys.version)"
   ]
  },
  {
   "cell_type": "markdown",
   "id": "b498631f",
   "metadata": {},
   "source": [
    "### Writing comments"
   ]
  },
  {
   "cell_type": "code",
   "execution_count": 9,
   "id": "7f207f45",
   "metadata": {},
   "outputs": [
    {
     "name": "stdout",
     "output_type": "stream",
     "text": [
      "This is a comment in Python\n"
     ]
    }
   ],
   "source": [
    "# This is my first comment in Python\n",
    "# Comments are used to explain code and make it more readable\n",
    "print(\"This is a comment in Python\")"
   ]
  }
 ],
 "metadata": {
  "kernelspec": {
   "display_name": "Python 3",
   "language": "python",
   "name": "python3"
  },
  "language_info": {
   "codemirror_mode": {
    "name": "ipython",
    "version": 3
   },
   "file_extension": ".py",
   "mimetype": "text/x-python",
   "name": "python",
   "nbconvert_exporter": "python",
   "pygments_lexer": "ipython3",
   "version": "3.11.9"
  }
 },
 "nbformat": 4,
 "nbformat_minor": 5
}
