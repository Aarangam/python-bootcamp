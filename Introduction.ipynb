{
 "cells": [
  {
   "cell_type": "markdown",
   "id": "1915cb01",
   "metadata": {},
   "source": [
    "## Introduction to Python"
   ]
  },
  {
   "cell_type": "markdown",
   "id": "437f0b06",
   "metadata": {},
   "source": [
    "### Executing Print"
   ]
  },
  {
   "cell_type": "code",
   "execution_count": 1,
   "id": "260cfe17",
   "metadata": {},
   "outputs": [
    {
     "name": "stdout",
     "output_type": "stream",
     "text": [
      "Hello World!\n"
     ]
    }
   ],
   "source": [
    "print(\"Hello World!\")"
   ]
  },
  {
   "cell_type": "code",
   "execution_count": 2,
   "id": "9fec3a44",
   "metadata": {},
   "outputs": [
    {
     "name": "stdout",
     "output_type": "stream",
     "text": [
      "it's a beautiful day\n"
     ]
    }
   ],
   "source": [
    "print(\"\"\"it's a beautiful day\"\"\")"
   ]
  },
  {
   "cell_type": "code",
   "execution_count": 4,
   "id": "e4c74863",
   "metadata": {},
   "outputs": [
    {
     "name": "stdout",
     "output_type": "stream",
     "text": [
      "It is my first line of code\n",
      "      and I am excited to learn Python!\n"
     ]
    }
   ],
   "source": [
    "print(\"\"\"It is my first line of code\n",
    "      and I am excited to learn Python!\"\"\")"
   ]
  },
  {
   "cell_type": "markdown",
   "id": "e0aba445",
   "metadata": {},
   "source": [
    "### Check you version"
   ]
  },
  {
   "cell_type": "code",
   "execution_count": 5,
   "id": "dd087e3e",
   "metadata": {},
   "outputs": [
    {
     "name": "stdout",
     "output_type": "stream",
     "text": [
      "3.11.9 (tags/v3.11.9:de54cf5, Apr  2 2024, 10:12:12) [MSC v.1938 64 bit (AMD64)]\n"
     ]
    }
   ],
   "source": [
    "import sys\n",
    "print(sys.version)"
   ]
  },
  {
   "cell_type": "markdown",
   "id": "b498631f",
   "metadata": {},
   "source": [
    "### Writing comments"
   ]
  },
  {
   "cell_type": "code",
   "execution_count": 9,
   "id": "7f207f45",
   "metadata": {},
   "outputs": [
    {
     "name": "stdout",
     "output_type": "stream",
     "text": [
      "This is a comment in Python\n"
     ]
    }
   ],
   "source": [
    "# This is my first comment in Python\n",
    "# Comments are used to explain code and make it more readable\n",
    "print(\"This is a comment in Python\")"
   ]
  },
  {
   "cell_type": "markdown",
   "id": "42f9ca97",
   "metadata": {},
   "source": [
    "# Input and Output Fuctions"
   ]
  },
  {
   "cell_type": "code",
   "execution_count": 1,
   "id": "7ca63349",
   "metadata": {},
   "outputs": [
    {
     "name": "stdout",
     "output_type": "stream",
     "text": [
      "Hello,  Welcome to Python programming.\n"
     ]
    }
   ],
   "source": [
    "Name = input(\"Enter your name: \")\n",
    "print(\"Hello,\", Name,\"Welcome to Python programming.\")"
   ]
  },
  {
   "cell_type": "code",
   "execution_count": 2,
   "id": "4d0f9daa",
   "metadata": {},
   "outputs": [
    {
     "name": "stdout",
     "output_type": "stream",
     "text": [
      "Hello people d\n"
     ]
    }
   ],
   "source": [
    "into = input(\"Enter your introduction: \")\n",
    "print(\"Hello people\", into)"
   ]
  },
  {
   "cell_type": "code",
   "execution_count": 3,
   "id": "3d595885",
   "metadata": {},
   "outputs": [
    {
     "name": "stdout",
     "output_type": "stream",
     "text": [
      "10 This is a string 3.14 True\n"
     ]
    }
   ],
   "source": [
    "a = 10\n",
    "b = \"This is a string\"\n",
    "c= 3.14\n",
    "d = True\n",
    "print(a, b, c, d)"
   ]
  },
  {
   "cell_type": "code",
   "execution_count": 4,
   "id": "dd9a81a5",
   "metadata": {},
   "outputs": [
    {
     "name": "stdout",
     "output_type": "stream",
     "text": [
      "The value of x is: 5 and the value of y is: 10\n"
     ]
    }
   ],
   "source": [
    "x,y = 5, 10\n",
    "print(\"The value of x is:\", x\n",
    "      , \"and the value of y is:\", y)"
   ]
  },
  {
   "cell_type": "code",
   "execution_count": 5,
   "id": "e6f57e9e",
   "metadata": {},
   "outputs": [
    {
     "name": "stdout",
     "output_type": "stream",
     "text": [
      "my favorite color is f\n"
     ]
    }
   ],
   "source": [
    "color = input(\"Enter your favorite color: \")\n",
    "print(\"my favorite color is\", color)"
   ]
  },
  {
   "cell_type": "code",
   "execution_count": 7,
   "id": "b9274c75",
   "metadata": {},
   "outputs": [
    {
     "name": "stdout",
     "output_type": "stream",
     "text": [
      "The number you entered is: 64\n"
     ]
    }
   ],
   "source": [
    "number = int(input(\"Enter a number: \"))\n",
    "print(\"The number you entered is:\", number)"
   ]
  },
  {
   "cell_type": "code",
   "execution_count": null,
   "id": "95b878f6",
   "metadata": {},
   "outputs": [
    {
     "name": "stdout",
     "output_type": "stream",
     "text": [
      "<class 'str'>\n",
      "<class 'int'>\n",
      "<class 'float'>\n",
      "<class 'tuple'>\n",
      "<class 'list'>\n",
      "<class 'dict'>\n"
     ]
    }
   ],
   "source": [
    "a = \"Hello World\"\n",
    "b = 10\n",
    "c = 11.22\n",
    "d = (\"Geeks\", \"for\", \"Geeks\")\n",
    "e = [\"Geeks\", \"for\", \"Geeks\"]\n",
    "f = {\"Geeks\": 1, \"for\":2, \"Geeks\":3}\n",
    "\n",
    "\n",
    "print(type(a))\n",
    "print(type(b))\n",
    "print(type(c))\n",
    "print(type(d))\n",
    "print(type(e))\n",
    "print(type(f))"
   ]
  },
  {
   "cell_type": "markdown",
   "id": "ef0ab674",
   "metadata": {},
   "source": [
    "# Data types"
   ]
  },
  {
   "cell_type": "markdown",
   "id": "2a195344",
   "metadata": {},
   "source": [
    "### python has many data types"
   ]
  },
  {
   "cell_type": "code",
   "execution_count": 8,
   "id": "7ad2e795",
   "metadata": {},
   "outputs": [
    {
     "name": "stdout",
     "output_type": "stream",
     "text": [
      "<class 'int'>\n"
     ]
    }
   ],
   "source": [
    "a = 5\n",
    "print(type(a))"
   ]
  },
  {
   "cell_type": "code",
   "execution_count": 12,
   "id": "78f974b1",
   "metadata": {},
   "outputs": [
    {
     "name": "stdout",
     "output_type": "stream",
     "text": [
      "<class 'complex'>\n"
     ]
    }
   ],
   "source": [
    "f= 6j\n",
    "print(type(f))"
   ]
  },
  {
   "cell_type": "code",
   "execution_count": 13,
   "id": "df6b9422",
   "metadata": {},
   "outputs": [],
   "source": [
    "float_type = 46.4"
   ]
  },
  {
   "cell_type": "code",
   "execution_count": 14,
   "id": "0fb273be",
   "metadata": {},
   "outputs": [
    {
     "name": "stdout",
     "output_type": "stream",
     "text": [
      "<class 'float'>\n"
     ]
    }
   ],
   "source": [
    "print(type(float_type))"
   ]
  },
  {
   "cell_type": "code",
   "execution_count": 3,
   "id": "b4a26f05",
   "metadata": {},
   "outputs": [],
   "source": [
    "g = [\"apple\", \"banana\", \"cherry\"]"
   ]
  },
  {
   "cell_type": "code",
   "execution_count": 4,
   "id": "e6d5b311",
   "metadata": {},
   "outputs": [
    {
     "name": "stdout",
     "output_type": "stream",
     "text": [
      "['apple', 'banana', 'cherry']\n",
      "<class 'list'>\n"
     ]
    }
   ],
   "source": [
    "print(g)\n",
    "print(type(g))"
   ]
  },
  {
   "cell_type": "code",
   "execution_count": 5,
   "id": "a5e563f6",
   "metadata": {},
   "outputs": [
    {
     "name": "stdout",
     "output_type": "stream",
     "text": [
      "('apple', 'banana', 'cherry')\n"
     ]
    }
   ],
   "source": [
    "mytuple = (\"apple\", \"banana\", \"cherry\")\n",
    "print(mytuple)"
   ]
  },
  {
   "cell_type": "code",
   "execution_count": 6,
   "id": "8a39973b",
   "metadata": {},
   "outputs": [
    {
     "name": "stdout",
     "output_type": "stream",
     "text": [
      "<class 'tuple'>\n"
     ]
    }
   ],
   "source": [
    "print(type(mytuple))"
   ]
  },
  {
   "cell_type": "code",
   "execution_count": 7,
   "id": "a495feb1",
   "metadata": {},
   "outputs": [
    {
     "name": "stdout",
     "output_type": "stream",
     "text": [
      "range(0, 6)\n"
     ]
    }
   ],
   "source": [
    "range1 = range(6)\n",
    "print(range1)"
   ]
  },
  {
   "cell_type": "code",
   "execution_count": 9,
   "id": "dd92cbfb",
   "metadata": {},
   "outputs": [
    {
     "name": "stdout",
     "output_type": "stream",
     "text": [
      "range(1, 10, 2)\n",
      "range(10, 0, -1)\n"
     ]
    }
   ],
   "source": [
    "range2 = range(1, 10,2)\n",
    "range3 = range(10, 0, -1)\n",
    "print(range2)\n",
    "print(range3)"
   ]
  },
  {
   "cell_type": "code",
   "execution_count": 10,
   "id": "6469b787",
   "metadata": {},
   "outputs": [
    {
     "name": "stdout",
     "output_type": "stream",
     "text": [
      "<class 'range'>\n",
      "<class 'range'>\n"
     ]
    }
   ],
   "source": [
    "print(type(range1))\n",
    "print(type(range2))"
   ]
  },
  {
   "cell_type": "code",
   "execution_count": 11,
   "id": "5f907992",
   "metadata": {},
   "outputs": [
    {
     "name": "stdout",
     "output_type": "stream",
     "text": [
      "{'name': 'John', 'age': 30, 'city': 'New York'}\n"
     ]
    }
   ],
   "source": [
    "dict1 = {\"name\": \"John\", \"age\": 30, \"city\": \"New York\"}\n",
    "print(dict1)"
   ]
  },
  {
   "cell_type": "code",
   "execution_count": 12,
   "id": "ae5ef92b",
   "metadata": {},
   "outputs": [
    {
     "name": "stdout",
     "output_type": "stream",
     "text": [
      "{'cherry', 'banana', 'apple'}\n"
     ]
    }
   ],
   "source": [
    "myset = {\"apple\", \"banana\", \"cherry\"}\n",
    "print(myset)"
   ]
  },
  {
   "cell_type": "code",
   "execution_count": 13,
   "id": "ed9d9d9c",
   "metadata": {},
   "outputs": [
    {
     "name": "stdout",
     "output_type": "stream",
     "text": [
      "True\n"
     ]
    }
   ],
   "source": [
    "MYBOOL = True\n",
    "print(MYBOOL)"
   ]
  },
  {
   "cell_type": "code",
   "execution_count": 14,
   "id": "95524508",
   "metadata": {},
   "outputs": [
    {
     "name": "stdout",
     "output_type": "stream",
     "text": [
      "<class 'bool'>\n"
     ]
    }
   ],
   "source": [
    "print(type(MYBOOL))"
   ]
  },
  {
   "cell_type": "code",
   "execution_count": null,
   "id": "66de16d6",
   "metadata": {},
   "outputs": [],
   "source": []
  }
 ],
 "metadata": {
  "kernelspec": {
   "display_name": "Python 3",
   "language": "python",
   "name": "python3"
  },
  "language_info": {
   "codemirror_mode": {
    "name": "ipython",
    "version": 3
   },
   "file_extension": ".py",
   "mimetype": "text/x-python",
   "name": "python",
   "nbconvert_exporter": "python",
   "pygments_lexer": "ipython3",
   "version": "3.11.9"
  }
 },
 "nbformat": 4,
 "nbformat_minor": 5
}
