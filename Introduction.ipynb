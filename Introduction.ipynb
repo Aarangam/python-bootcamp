{
 "cells": [
  {
   "cell_type": "markdown",
   "id": "1915cb01",
   "metadata": {},
   "source": [
    "## Introduction to Python"
   ]
  },
  {
   "cell_type": "markdown",
   "id": "437f0b06",
   "metadata": {},
   "source": [
    "### Executing Print"
   ]
  },
  {
   "cell_type": "code",
   "execution_count": 1,
   "id": "260cfe17",
   "metadata": {},
   "outputs": [
    {
     "name": "stdout",
     "output_type": "stream",
     "text": [
      "Hello World!\n"
     ]
    }
   ],
   "source": [
    "print(\"Hello World!\")"
   ]
  },
  {
   "cell_type": "code",
   "execution_count": 2,
   "id": "9fec3a44",
   "metadata": {},
   "outputs": [
    {
     "name": "stdout",
     "output_type": "stream",
     "text": [
      "it's a beautiful day\n"
     ]
    }
   ],
   "source": [
    "print(\"\"\"it's a beautiful day\"\"\")"
   ]
  },
  {
   "cell_type": "code",
   "execution_count": 4,
   "id": "e4c74863",
   "metadata": {},
   "outputs": [
    {
     "name": "stdout",
     "output_type": "stream",
     "text": [
      "It is my first line of code\n",
      "      and I am excited to learn Python!\n"
     ]
    }
   ],
   "source": [
    "print(\"\"\"It is my first line of code\n",
    "      and I am excited to learn Python!\"\"\")"
   ]
  },
  {
   "cell_type": "markdown",
   "id": "e0aba445",
   "metadata": {},
   "source": [
    "### Check you version"
   ]
  },
  {
   "cell_type": "code",
   "execution_count": 5,
   "id": "dd087e3e",
   "metadata": {},
   "outputs": [
    {
     "name": "stdout",
     "output_type": "stream",
     "text": [
      "3.11.9 (tags/v3.11.9:de54cf5, Apr  2 2024, 10:12:12) [MSC v.1938 64 bit (AMD64)]\n"
     ]
    }
   ],
   "source": [
    "import sys\n",
    "print(sys.version)"
   ]
  },
  {
   "cell_type": "markdown",
   "id": "b498631f",
   "metadata": {},
   "source": [
    "### Writing comments"
   ]
  },
  {
   "cell_type": "code",
   "execution_count": 9,
   "id": "7f207f45",
   "metadata": {},
   "outputs": [
    {
     "name": "stdout",
     "output_type": "stream",
     "text": [
      "This is a comment in Python\n"
     ]
    }
   ],
   "source": [
    "# This is my first comment in Python\n",
    "# Comments are used to explain code and make it more readable\n",
    "print(\"This is a comment in Python\")"
   ]
  },
  {
   "cell_type": "markdown",
   "id": "42f9ca97",
   "metadata": {},
   "source": [
    "# Input and Output Fuctions"
   ]
  },
  {
   "cell_type": "code",
   "execution_count": 4,
   "id": "7ca63349",
   "metadata": {},
   "outputs": [
    {
     "name": "stdout",
     "output_type": "stream",
     "text": [
      "Hello, Prasanna Welcome to Python programming.\n"
     ]
    }
   ],
   "source": [
    "Name = input(\"Enter your name: \")\n",
    "print(\"Hello,\", Name,\"Welcome to Python programming.\")"
   ]
  },
  {
   "cell_type": "code",
   "execution_count": 6,
   "id": "4d0f9daa",
   "metadata": {},
   "outputs": [
    {
     "name": "stdout",
     "output_type": "stream",
     "text": [
      "Hello people This is Prasanna, I am learning Python\n"
     ]
    }
   ],
   "source": [
    "into = input(\"Enter your introduction: \")\n",
    "print(\"Hello people\", into)"
   ]
  },
  {
   "cell_type": "code",
   "execution_count": 7,
   "id": "3d595885",
   "metadata": {},
   "outputs": [
    {
     "name": "stdout",
     "output_type": "stream",
     "text": [
      "10 This is a string 3.14 True\n"
     ]
    }
   ],
   "source": [
    "a = 10\n",
    "b = \"This is a string\"\n",
    "c= 3.14\n",
    "d = True\n",
    "print(a, b, c, d)"
   ]
  },
  {
   "cell_type": "code",
   "execution_count": 8,
   "id": "dd9a81a5",
   "metadata": {},
   "outputs": [
    {
     "name": "stdout",
     "output_type": "stream",
     "text": [
      "The value of x is: 5 and the value of y is: 10\n"
     ]
    }
   ],
   "source": [
    "x,y = 5, 10\n",
    "print(\"The value of x is:\", x\n",
    "      , \"and the value of y is:\", y)"
   ]
  },
  {
   "cell_type": "code",
   "execution_count": 9,
   "id": "e6f57e9e",
   "metadata": {},
   "outputs": [
    {
     "name": "stdout",
     "output_type": "stream",
     "text": [
      "my favorite color is blue\n"
     ]
    }
   ],
   "source": [
    "color = input(\"Enter your favorite color: \")\n",
    "print(\"my favorite color is\", color)"
   ]
  },
  {
   "cell_type": "code",
   "execution_count": 10,
   "id": "b9274c75",
   "metadata": {},
   "outputs": [
    {
     "name": "stdout",
     "output_type": "stream",
     "text": [
      "The number you entered is: 754\n"
     ]
    }
   ],
   "source": [
    "number = int(input(\"Enter a number: \"))\n",
    "print(\"The number you entered is:\", number)"
   ]
  },
  {
   "cell_type": "code",
   "execution_count": 17,
   "id": "95b878f6",
   "metadata": {},
   "outputs": [
    {
     "name": "stdout",
     "output_type": "stream",
     "text": [
      "<class 'str'>\n",
      "<class 'int'>\n",
      "<class 'float'>\n",
      "<class 'tuple'>\n",
      "<class 'list'>\n",
      "<class 'dict'>\n"
     ]
    }
   ],
   "source": [
    "a = \"Hello World\"\n",
    "b = 10\n",
    "c = 11.22\n",
    "d = (\"Geeks\", \"for\", \"Geeks\")\n",
    "e = [\"Geeks\", \"for\", \"Geeks\"]\n",
    "f = {\"Geeks\": 1, \"for\":2, \"Geeks\":3}\n",
    "\n",
    "\n",
    "print(type(a))\n",
    "print(type(b))\n",
    "print(type(c))\n",
    "print(type(d))\n",
    "print(type(e))\n",
    "print(type(f))"
   ]
  },
  {
   "cell_type": "markdown",
   "id": "f3ce1bc3",
   "metadata": {},
   "source": [
    "# Formatting"
   ]
  },
  {
   "cell_type": "markdown",
   "id": "87be8cdf",
   "metadata": {},
   "source": []
  }
 ],
 "metadata": {
  "kernelspec": {
   "display_name": "Python 3",
   "language": "python",
   "name": "python3"
  },
  "language_info": {
   "codemirror_mode": {
    "name": "ipython",
    "version": 3
   },
   "file_extension": ".py",
   "mimetype": "text/x-python",
   "name": "python",
   "nbconvert_exporter": "python",
   "pygments_lexer": "ipython3",
   "version": "3.11.9"
  }
 },
 "nbformat": 4,
 "nbformat_minor": 5
}
